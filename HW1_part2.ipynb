{
  "nbformat": 4,
  "nbformat_minor": 0,
  "metadata": {
    "colab": {
      "provenance": [],
      "toc_visible": true,
      "authorship_tag": "ABX9TyOPeRKNq1LrkYm/hUsbw6eO",
      "include_colab_link": true
    },
    "kernelspec": {
      "name": "python3",
      "display_name": "Python 3"
    },
    "language_info": {
      "name": "python"
    }
  },
  "cells": [
    {
      "cell_type": "markdown",
      "metadata": {
        "id": "view-in-github",
        "colab_type": "text"
      },
      "source": [
        "<a href=\"https://colab.research.google.com/github/AliKhodarahmy/machinelearning2023/blob/main/HW1_part2.ipynb\" target=\"_parent\"><img src=\"https://colab.research.google.com/assets/colab-badge.svg\" alt=\"Open In Colab\"/></a>"
      ]
    },
    {
      "cell_type": "markdown",
      "source": [
        "# Q1\n"
      ],
      "metadata": {
        "id": "c--QoVxtsXSh"
      }
    },
    {
      "cell_type": "code",
      "source": [
        "import numpy as np\n",
        "\n",
        "rand_x = np.random.randint(1, 101, 20) # tolid adade tasadofi\n",
        "print(\"The My Array is:\", rand_x,'\\n......................')\n",
        "\n",
        "mean = np.mean(rand_x)\n",
        "print(\"The Mean is:\", mean,'\\n......................')\n",
        "\n",
        "median = np.median(rand_x)\n",
        "print(\"The Median is:\", median,'\\n......................')\n",
        "\n",
        "std_dev = np.std(rand_x)\n",
        "print(\"The Standard Deviation is:\", std_dev)"
      ],
      "metadata": {
        "colab": {
          "base_uri": "https://localhost:8080/"
        },
        "id": "nQw9w_H7saSl",
        "outputId": "b0f8cd33-2861-4685-eaf0-e20a3074213d"
      },
      "execution_count": null,
      "outputs": [
        {
          "output_type": "stream",
          "name": "stdout",
          "text": [
            "The My Array is: [41 64 86 16 46 27 27 95 71 85 90 34 83 59 42  3 16 98 61 85] \n",
            "......................\n",
            "The Mean is: 56.45 \n",
            "......................\n",
            "The Median is: 60.0 \n",
            "......................\n",
            "The Standard Deviation is: 28.95423112431066\n"
          ]
        }
      ]
    },
    {
      "cell_type": "markdown",
      "source": [
        "# Q2"
      ],
      "metadata": {
        "id": "u85hO8TNsbD4"
      }
    },
    {
      "cell_type": "code",
      "source": [
        "import pandas as pd\n",
        "\n",
        "data = {'Name': ['Ali', 'Reza', 'Amir', 'Neda', 'Eli'],\n",
        "        'Age': [25, 30, 22, 35, 28],\n",
        "        'City': ['Tehran', 'Yazd', 'Tehran', 'Karaj', 'Shiraz']}\n",
        "\n",
        "df = pd.DataFrame(data)\n",
        "\n",
        "print(df.head(3),'\\n......................')\n",
        "print(df.tail(2),'\\n......................')\n",
        "\n",
        "print(df['Age'].describe())"
      ],
      "metadata": {
        "colab": {
          "base_uri": "https://localhost:8080/"
        },
        "id": "941VZ41msbLP",
        "outputId": "f40095c8-ca3e-413f-eb39-2032de9db9dd"
      },
      "execution_count": null,
      "outputs": [
        {
          "output_type": "stream",
          "name": "stdout",
          "text": [
            "   Name  Age    City\n",
            "0   Ali   25  Tehran\n",
            "1  Reza   30    Yazd\n",
            "2  Amir   22  Tehran \n",
            "......................\n",
            "   Name  Age    City\n",
            "3  Neda   35   Karaj\n",
            "4   Eli   28  Shiraz \n",
            "......................\n",
            "count     5.000000\n",
            "mean     28.000000\n",
            "std       4.949747\n",
            "min      22.000000\n",
            "25%      25.000000\n",
            "50%      28.000000\n",
            "75%      30.000000\n",
            "max      35.000000\n",
            "Name: Age, dtype: float64\n"
          ]
        }
      ]
    },
    {
      "cell_type": "markdown",
      "source": [
        "# Q3"
      ],
      "metadata": {
        "id": "gLxIp1pUsbQk"
      }
    },
    {
      "cell_type": "code",
      "source": [
        "import matplotlib.pyplot as plt\n",
        "\n",
        "months = ['Farvardin', 'Tir', 'Mehr', 'Dey']\n",
        "sales = [10000000, 20000000, 35000000, 5000000]\n",
        "\n",
        "plt.bar(months, sales, color='cyan')\n",
        "plt.xlabel('Months')\n",
        "plt.ylabel('Sales (in Iranian Rial)')\n",
        "plt.title('Sales for the first month of each season in 1401')\n",
        "plt.show()\n"
      ],
      "metadata": {
        "colab": {
          "base_uri": "https://localhost:8080/",
          "height": 472
        },
        "id": "UNBROiX3sbVX",
        "outputId": "c9b2b4e7-ba71-4c54-fded-7aaf40685434"
      },
      "execution_count": null,
      "outputs": [
        {
          "output_type": "display_data",
          "data": {
            "text/plain": [
              "<Figure size 640x480 with 1 Axes>"
            ],
            "image/png": "[encoded data removed]"
          },
          "metadata": {}
        }
      ]
    },
    {
      "cell_type": "markdown",
      "source": [
        "# Q4"
      ],
      "metadata": {
        "id": "43bTv7m1sbZe"
      }
    },
    {
      "cell_type": "code",
      "source": [
        "import numpy as np\n",
        "\n",
        "arr1 = np.random.randint(1, 11, (5, 5))\n",
        "arr2 = np.random.randint(1, 11, (5, 5))\n",
        "\n",
        "print(\"arr1:\\n\" , arr1)\n",
        "print(\"............\\narr2:\\n\" , arr2)\n",
        "\n",
        "print(\"............\\nAddition:\\n\" , arr1 + arr2)\n",
        "print(\"............\\nSubtraction:\\n\" , arr1 - arr2)\n",
        "print(\"............\\nMultiplication:\\n\" , arr1 * arr2) # zarb onsor dar onsor na matrisi !!!\n",
        "\n",
        "with np.errstate(divide='ignore', invalid='ignore'):\n",
        "    division = np.true_divide(arr1, arr2)\n",
        "    division[~np.isfinite(division)] = 0  # age ghabel taghsim nabood !!!\n",
        "\n",
        "print(\"............\\nDivision:\\n\" , division)\n"
      ],
      "metadata": {
        "colab": {
          "base_uri": "https://localhost:8080/"
        },
        "id": "hUKYKLe4sbfP",
        "outputId": "a26c81c7-ab26-4cf8-b8fe-73285ea003d5"
      },
      "execution_count": null,
      "outputs": [
        {
          "output_type": "stream",
          "name": "stdout",
          "text": [
            "arr1:\n",
            " [[ 2  9  8  6  4]\n",
            " [ 3  2  6  3  5]\n",
            " [ 8 10  9  4  9]\n",
            " [ 2  4  1  2  6]\n",
            " [10 10 10  7  5]]\n",
            "............\n",
            "arr2:\n",
            " [[ 5 10  9 10  1]\n",
            " [ 6  9  5  2  2]\n",
            " [ 3  3  9  8  5]\n",
            " [ 7  4  4  7  2]\n",
            " [ 6  9  1  4  7]]\n",
            "............\n",
            "Addition:\n",
            " [[ 7 19 17 16  5]\n",
            " [ 9 11 11  5  7]\n",
            " [11 13 18 12 14]\n",
            " [ 9  8  5  9  8]\n",
            " [16 19 11 11 12]]\n",
            "............\n",
            "Subtraction:\n",
            " [[-3 -1 -1 -4  3]\n",
            " [-3 -7  1  1  3]\n",
            " [ 5  7  0 -4  4]\n",
            " [-5  0 -3 -5  4]\n",
            " [ 4  1  9  3 -2]]\n",
            "............\n",
            "Multiplication:\n",
            " [[10 90 72 60  4]\n",
            " [18 18 30  6 10]\n",
            " [24 30 81 32 45]\n",
            " [14 16  4 14 12]\n",
            " [60 90 10 28 35]]\n",
            "............\n",
            "Division:\n",
            " [[ 0.4         0.9         0.88888889  0.6         4.        ]\n",
            " [ 0.5         0.22222222  1.2         1.5         2.5       ]\n",
            " [ 2.66666667  3.33333333  1.          0.5         1.8       ]\n",
            " [ 0.28571429  1.          0.25        0.28571429  3.        ]\n",
            " [ 1.66666667  1.11111111 10.          1.75        0.71428571]]\n"
          ]
        }
      ]
    },
    {
      "cell_type": "markdown",
      "source": [
        "# Q5"
      ],
      "metadata": {
        "id": "5U3ea3D0sbja"
      }
    },
    {
      "cell_type": "code",
      "source": [
        "import pandas as pd\n",
        "\n",
        "data = {'Name': ['Ali', 'Reza', 'Amir', 'Neda', 'Eli'],\n",
        "        'Age': [48, 30, 22, 35, 28]\n",
        "       }\n",
        "\n",
        "employee = pd.DataFrame(data)\n",
        "authorized_persons = employee[employee['Age'] > 30] # filtering\n",
        "\n",
        "print(authorized_persons)\n"
      ],
      "metadata": {
        "colab": {
          "base_uri": "https://localhost:8080/"
        },
        "id": "PaCW-Nzjsbob",
        "outputId": "835dd299-312e-4944-9e1b-7b4f68a51efa"
      },
      "execution_count": null,
      "outputs": [
        {
          "output_type": "stream",
          "name": "stdout",
          "text": [
            "   Name  Age\n",
            "0   Ali   48\n",
            "3  Neda   35\n"
          ]
        }
      ]
    },
    {
      "cell_type": "markdown",
      "source": [
        "# Q6"
      ],
      "metadata": {
        "id": "8aNY_ZzAskBv"
      }
    },
    {
      "cell_type": "code",
      "source": [
        "import matplotlib.pyplot as plt\n",
        "import numpy as np\n",
        "\n",
        "np.random.seed(0)\n",
        "x = np.random.rand(100)\n",
        "y = np.random.rand(100)\n",
        "\n",
        "plt.scatter(x, y, c='cyan', marker='o', edgecolors='black', label='Random Data')\n",
        "\n",
        "plt.xlabel('X')\n",
        "plt.ylabel('Y')\n",
        "plt.title('Scatter Plot of Random Data')\n",
        "\n",
        "plt.legend() # moarefie data\n",
        "\n",
        "plt.show()\n"
      ],
      "metadata": {
        "colab": {
          "base_uri": "https://localhost:8080/",
          "height": 472
        },
        "id": "W3xSR8S_skK5",
        "outputId": "ea4f0307-86c3-46d4-ad73-aa82d60bb6f3"
      },
      "execution_count": null,
      "outputs": [
        {
          "output_type": "display_data",
          "data": {
            "text/plain": [
              "<Figure size 640x480 with 1 Axes>"
            ],
            "image/png": "[encoded data removed]"
          },
          "metadata": {}
        }
      ]
    },
    {
      "cell_type": "markdown",
      "source": [
        "# Q7"
      ],
      "metadata": {
        "id": "Q6pdPl66skP7"
      }
    },
    {
      "cell_type": "code",
      "source": [
        "import numpy as np\n",
        "\n",
        "m1 = np.random.rand(2, 3)\n",
        "m2 = np.random.rand(3, 4)\n",
        "\n",
        "print(\"Matrix 1 (2x3):\\n\" , m1)\n",
        "print(\".................\\nMatrix 2 (3x4):\\n\" , m2)\n",
        "\n",
        "zarb = np.dot(m1, m2)\n",
        "print(\".................\\nMatrix multiplication (2x4):\")\n",
        "print(zarb)\n"
      ],
      "metadata": {
        "colab": {
          "base_uri": "https://localhost:8080/"
        },
        "id": "LVI6lfjxskWJ",
        "outputId": "c7266c12-ee91-4422-e1bf-079cf0b2a4b6"
      },
      "execution_count": null,
      "outputs": [
        {
          "output_type": "stream",
          "name": "stdout",
          "text": [
            "Matrix 1 (2x3):\n",
            " [[0.37416998 0.46357542 0.27762871]\n",
            " [0.58678435 0.86385561 0.11753186]]\n",
            ".................\n",
            "Matrix 2 (3x4):\n",
            " [[0.51737911 0.13206811 0.71685968 0.3960597 ]\n",
            " [0.56542131 0.18327984 0.14484776 0.48805628]\n",
            " [0.35561274 0.94043195 0.76532525 0.74866362]]\n",
            ".................\n",
            "Matrix multiplication (2x4):\n",
            "[[0.55443146 0.39547085 0.54785149 0.58229506]\n",
            " [0.83382816 0.34635352 0.63571969 0.74200361]]\n"
          ]
        }
      ]
    },
    {
      "cell_type": "markdown",
      "source": [
        "# Q8"
      ],
      "metadata": {
        "id": "88_aMxk7skak"
      }
    },
    {
      "cell_type": "code",
      "source": [
        "import pandas as pd\n",
        "\n",
        "data = {\n",
        "    'Product': ['A', 'B', 'C', 'A', 'B', 'C', 'A', 'B'],\n",
        "    'Category': ['A1', 'A2', 'A1', 'A2', 'A1', 'A3', 'A1', 'A3'],\n",
        "    'Sales': [100, 200, 10, 0, 400, 180, 560, 20]\n",
        "}\n",
        "\n",
        "sales_data = pd.DataFrame(data)\n",
        "category_total_sales = sales_data.groupby('Category')['Sales'].sum()\n",
        "\n",
        "print(category_total_sales)\n"
      ],
      "metadata": {
        "colab": {
          "base_uri": "https://localhost:8080/"
        },
        "id": "Spb8yF9eskfj",
        "outputId": "51998df9-ceb0-4776-bd00-42705faf2535"
      },
      "execution_count": 2,
      "outputs": [
        {
          "output_type": "stream",
          "name": "stdout",
          "text": [
            "Category\n",
            "A1    1070\n",
            "A2     200\n",
            "A3     200\n",
            "Name: Sales, dtype: int64\n"
          ]
        }
      ]
    },
    {
      "cell_type": "markdown",
      "source": [
        "# Q9"
      ],
      "metadata": {
        "id": "KmwZweHfskkb"
      }
    },
    {
      "cell_type": "code",
      "source": [
        "import matplotlib.pyplot as plt\n",
        "\n",
        "years = [2014, 2015, 2016, 2017, 2018, 2019, 2020, 2021, 2022, 2023]\n",
        "population = [8444000, 8555000, 8667000, 8781000, 8896000, 9014000, 9135000, 9259000, 9382000, 9500000]\n",
        "\n",
        "# adade vaghei az site : https://www.macrotrends.net/cities/21523/tehran/population\n",
        "\n",
        "plt.plot(years, population, marker='o', linestyle='-', color='cyan')\n",
        "\n",
        "plt.xlabel('Year')\n",
        "plt.ylabel('Population')\n",
        "plt.title('Tehran Population Growth Over 10 Years')\n",
        "\n",
        "plt.grid(True)\n",
        "plt.show()\n"
      ],
      "metadata": {
        "colab": {
          "base_uri": "https://localhost:8080/",
          "height": 472
        },
        "id": "Jiu9KTvCskpN",
        "outputId": "23dd5bef-609f-4e16-c186-869357849048"
      },
      "execution_count": 1,
      "outputs": [
        {
          "output_type": "display_data",
          "data": {
            "text/plain": [
              "<Figure size 640x480 with 1 Axes>"
            ],
            "image/png": "[encoded data removed]"
          },
          "metadata": {}
        }
      ]
    },
    {
      "cell_type": "markdown",
      "source": [
        "# Q10"
      ],
      "metadata": {
        "id": "kyw-vOG6sktn"
      }
    },
    {
      "cell_type": "code",
      "source": [
        "import pandas as pd\n",
        "\n",
        "data = {\n",
        "    'StudentID': [9821523, 9812343, 9951626, 9712127, 9912412],\n",
        "    'Name': ['Ali', 'Reza', 'Amir', 'Neda', 'Eli'],\n",
        "    'Score': [95, 84, 72, 68, 90]\n",
        "}\n",
        "\n",
        "student_df = pd.DataFrame(data)\n",
        "\n",
        "def get_grade(score):\n",
        "    if score >= 90:\n",
        "        return 'A'\n",
        "    elif score >= 80:\n",
        "        return 'B'\n",
        "    elif score >= 70:\n",
        "        return 'C'\n",
        "    else:\n",
        "        return 'D'\n",
        "\n",
        "student_df['Grade'] = student_df['Score'].apply(get_grade)\n",
        "\n",
        "student_df = student_df.sort_values(by='Score', ascending=False) # false baraye moratab kardan az bala be paeen\n",
        "student_df = student_df.reset_index(drop=True) # moratab kardan\n",
        "\n",
        "student_df.index += 1 # ta shomare ra az sefr shoroo nakonad\n",
        "\n",
        "print(student_df)"
      ],
      "metadata": {
        "id": "QkE8Yu4Qskyn",
        "colab": {
          "base_uri": "https://localhost:8080/"
        },
        "outputId": "1a86b91b-c36d-4a67-fb3e-5eb71b6619c5"
      },
      "execution_count": 13,
      "outputs": [
        {
          "output_type": "stream",
          "name": "stdout",
          "text": [
            "   StudentID  Name  Score Grade\n",
            "1    9821523   Ali     95     A\n",
            "2    9912412   Eli     90     A\n",
            "3    9812343  Reza     84     B\n",
            "4    9951626  Amir     72     C\n",
            "5    9712127  Neda     68     D\n"
          ]
        }
      ]
    },
    {
      "cell_type": "markdown",
      "source": [
        "# Q11"
      ],
      "metadata": {
        "id": "XVfL2gG5sk25"
      }
    },
    {
      "cell_type": "code",
      "source": [],
      "metadata": {
        "id": "2vsKdoG4sk7d"
      },
      "execution_count": null,
      "outputs": []
    }
  ]
}