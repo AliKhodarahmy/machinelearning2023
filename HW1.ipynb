{
  "nbformat": 4,
  "nbformat_minor": 0,
  "metadata": {
    "colab": {
      "provenance": [],
      "toc_visible": true,
      "authorship_tag": "ABX9TyM36DPljX63dA/ZQOvzxcTW",
      "include_colab_link": true
    },
    "kernelspec": {
      "name": "python3",
      "display_name": "Python 3"
    },
    "language_info": {
      "name": "python"
    }
  },
  "cells": [
    {
      "cell_type": "markdown",
      "metadata": {
        "id": "view-in-github",
        "colab_type": "text"
      },
      "source": [
        "<a href=\"https://colab.research.google.com/github/AliKhodarahmy/machinelearning2023/blob/main/HW1.ipynb\" target=\"_parent\"><img src=\"https://colab.research.google.com/assets/colab-badge.svg\" alt=\"Open In Colab\"/></a>"
      ]
    },
    {
      "cell_type": "markdown",
      "source": [
        "# Q1"
      ],
      "metadata": {
        "id": "ssMaV6aog5Q7"
      }
    },
    {
      "cell_type": "code",
      "execution_count": null,
      "metadata": {
        "colab": {
          "base_uri": "https://localhost:8080/"
        },
        "id": "UbpZSx9pgywj",
        "outputId": "1ecee12b-c823-462b-ecea-18adfe8d3e72"
      },
      "outputs": [
        {
          "output_type": "stream",
          "name": "stdout",
          "text": [
            "enter your age\n",
            "12\n",
            "You are minor.\n"
          ]
        }
      ],
      "source": [
        "print (\"enter your age\")\n",
        "x = int(input())\n",
        "if x>17:\n",
        "  print (\"You are an adult.\")\n",
        "else:\n",
        "  print (\"You are minor.\")"
      ]
    },
    {
      "cell_type": "markdown",
      "source": [
        "# Q2"
      ],
      "metadata": {
        "id": "CjsEqROhl3Bj"
      }
    },
    {
      "cell_type": "code",
      "execution_count": null,
      "metadata": {
        "colab": {
          "base_uri": "https://localhost:8080/"
        },
        "id": "PdsHFKILl3Bk",
        "outputId": "61b48b08-84a6-48d1-d19a-f94162ba6824"
      },
      "outputs": [
        {
          "output_type": "stream",
          "name": "stdout",
          "text": [
            "1\n",
            "2\n",
            "3\n",
            "4\n",
            "5\n",
            "6\n",
            "7\n",
            "8\n",
            "9\n",
            "10\n"
          ]
        }
      ],
      "source": [
        "for i in range (10):\n",
        "  print (i+1)"
      ]
    },
    {
      "cell_type": "markdown",
      "source": [
        "# Q3"
      ],
      "metadata": {
        "id": "mZWJDTRdlPSJ"
      }
    },
    {
      "cell_type": "code",
      "execution_count": null,
      "metadata": {
        "colab": {
          "base_uri": "https://localhost:8080/"
        },
        "id": "w-xNBKjilPSJ",
        "outputId": "8c1e3934-ee64-4568-9b00-6547f17001b8"
      },
      "outputs": [
        {
          "output_type": "stream",
          "name": "stdout",
          "text": [
            "110\n"
          ]
        }
      ],
      "source": [
        "i = 1\n",
        "sum = 0\n",
        "while i<21:\n",
        "  if i%2==0:\n",
        "    sum += i\n",
        "  i += 1\n",
        "print (sum)"
      ]
    },
    {
      "cell_type": "markdown",
      "source": [
        "# Q4"
      ],
      "metadata": {
        "id": "84eeV2qKlUB4"
      }
    },
    {
      "cell_type": "code",
      "execution_count": 18,
      "metadata": {
        "colab": {
          "base_uri": "https://localhost:8080/"
        },
        "id": "qD1bkjeulUB5",
        "outputId": "df3a0b6d-f971-45d5-c37e-04a2d48bfbc0"
      },
      "outputs": [
        {
          "output_type": "stream",
          "name": "stdout",
          "text": [
            "10\n",
            "5\n",
            "50\n"
          ]
        }
      ],
      "source": [
        "def multiply(a,b):\n",
        "  return a*b\n",
        "x1 = int(input())\n",
        "x2 = int(input())\n",
        "print (multiply(x1,x2))"
      ]
    },
    {
      "cell_type": "markdown",
      "source": [
        "# Q5\n"
      ],
      "metadata": {
        "id": "i_fiY1WclUB6"
      }
    },
    {
      "cell_type": "code",
      "execution_count": 2,
      "metadata": {
        "id": "vW5QHtJmlUB6",
        "colab": {
          "base_uri": "https://localhost:8080/"
        },
        "outputId": "c6e3c105-19da-40d8-b6a5-c9f9d44cd0ae"
      },
      "outputs": [
        {
          "output_type": "stream",
          "name": "stdout",
          "text": [
            "Name: Ali-Khodarahmy\n",
            "Age: 23\n"
          ]
        }
      ],
      "source": [
        "class Person:\n",
        "    def __init__(self, name, age):\n",
        "        self.name = name\n",
        "        self.age = age\n",
        "me = Person(\"Ali-Khodarahmy\", 23)\n",
        "print(f\"Name: {me.name}\")\n",
        "print(f\"Age: {me.age}\")\n"
      ]
    },
    {
      "cell_type": "markdown",
      "source": [
        "# Q6"
      ],
      "metadata": {
        "id": "1gXo_5UalUB7"
      }
    },
    {
      "cell_type": "code",
      "execution_count": 1,
      "metadata": {
        "id": "YnxZIRJclUB8",
        "colab": {
          "base_uri": "https://localhost:8080/"
        },
        "outputId": "a34cddd3-835d-468d-f478-08bbd979eeb7"
      },
      "outputs": [
        {
          "output_type": "stream",
          "name": "stdout",
          "text": [
            "Name: Ali-Khodarahmy\n",
            "Age: 23\n",
            "Student ID: 9821523\n"
          ]
        }
      ],
      "source": [
        "class Person:\n",
        "    def __init__(self, name, age):\n",
        "        self.name = name\n",
        "        self.age = age\n",
        "\n",
        "class Student(Person):\n",
        "    def __init__(self, name, age, student_id):\n",
        "        super().__init__(name, age)\n",
        "        self.student_id = student_id\n",
        "student1 = Student(\"Ali-Khodarahmy\", 23,\"9821523\")\n",
        "\n",
        "print(f\"Name: {student1.name}\")\n",
        "print(f\"Age: {student1.age}\")\n",
        "print(f\"Student ID: {student1.student_id}\")\n"
      ]
    },
    {
      "cell_type": "markdown",
      "source": [
        "# Q7"
      ],
      "metadata": {
        "id": "-5LXwh7wlUHm"
      }
    },
    {
      "cell_type": "code",
      "execution_count": 14,
      "metadata": {
        "id": "qtA7-KI9lUHn",
        "colab": {
          "base_uri": "https://localhost:8080/"
        },
        "outputId": "43d54c63-69d6-496d-f55f-dd36392e2ae9"
      },
      "outputs": [
        {
          "output_type": "stream",
          "name": "stdout",
          "text": [
            "enter a number\n",
            "29\n",
            "29 is a prime number.\n"
          ]
        }
      ],
      "source": [
        "def is_prime(x):\n",
        "\n",
        "  if x <= 1:\n",
        "    return False\n",
        "\n",
        "  y=x\n",
        "  i=0\n",
        "\n",
        "  while x>0:\n",
        "    if y%x == 0:\n",
        "      i+=1\n",
        "    x-=1\n",
        "  if i==2:\n",
        "    return True\n",
        "  else:\n",
        "    return False\n",
        "\n",
        "print (\"enter a number\")\n",
        "x = int(input())\n",
        "\n",
        "if is_prime(x):\n",
        "  print (x,\"is a prime number.\")\n",
        "else:\n",
        "  print (x,\"is not a prime number.\")"
      ]
    },
    {
      "cell_type": "markdown",
      "source": [
        "# Q8"
      ],
      "metadata": {
        "id": "bdxohuv2lUHn"
      }
    },
    {
      "cell_type": "code",
      "execution_count": 22,
      "metadata": {
        "id": "Ib2z9ChYlUHo",
        "colab": {
          "base_uri": "https://localhost:8080/"
        },
        "outputId": "bbf6ace5-c3ef-4fe3-fcfc-372a1e975896"
      },
      "outputs": [
        {
          "output_type": "stream",
          "name": "stdout",
          "text": [
            "enter a integer\n",
            "10\n",
            "Factorial of  10  is  3628800\n"
          ]
        }
      ],
      "source": [
        "def Factorial (x):\n",
        "  while x>1:\n",
        "    return x*Factorial(x-1)\n",
        "  return x\n",
        "\n",
        "print (\"enter a integer\")\n",
        "x = int(input())\n",
        "print (\"Factorial of \",x,\" is \",Factorial(x))"
      ]
    },
    {
      "cell_type": "markdown",
      "source": [
        "# Q9"
      ],
      "metadata": {
        "id": "cOdv--K4lUHo"
      }
    },
    {
      "cell_type": "code",
      "execution_count": 34,
      "metadata": {
        "id": "FphpCy2MlUHp",
        "colab": {
          "base_uri": "https://localhost:8080/"
        },
        "outputId": "8277add5-3bd5-407f-b838-9996a10123b2"
      },
      "outputs": [
        {
          "output_type": "stream",
          "name": "stdout",
          "text": [
            "Area of the rectangle:  600\n"
          ]
        }
      ],
      "source": [
        "class Rectangle:\n",
        "    def __init__(Dimensions,width,height):\n",
        "      Dimensions.width = width\n",
        "      Dimensions.height = height\n",
        "    def calculate_area(Dimensions,width,height):\n",
        "       return Dimensions.width*Dimensions.height\n",
        "\n",
        "x = 20 # OR : int(input())\n",
        "y = 30 # OR : int(input())\n",
        "S = Rectangle(x, y)\n",
        "print(\"Area of the rectangle: \",S.calculate_area(x,y))"
      ]
    },
    {
      "cell_type": "markdown",
      "source": [
        "# Q10"
      ],
      "metadata": {
        "id": "jItS0ThjlfxO"
      }
    },
    {
      "cell_type": "code",
      "execution_count": 35,
      "metadata": {
        "id": "86zKm8P4lfxP",
        "colab": {
          "base_uri": "https://localhost:8080/"
        },
        "outputId": "e98f1456-e644-40d8-a7ad-555aabb18886"
      },
      "outputs": [
        {
          "output_type": "stream",
          "name": "stdout",
          "text": [
            "Perimeter of the square: 100\n"
          ]
        }
      ],
      "source": [
        "class Rectangle:\n",
        "    def __init__(Dimensions, width, height):\n",
        "        Dimensions.width = width\n",
        "        Dimensions.height = height\n",
        "\n",
        "    def calculate_area(Dimensions):\n",
        "        return Dimensions.width * Dimensions.height\n",
        "\n",
        "class Square(Rectangle):\n",
        "    def __init__(Dimensions, side_length):\n",
        "        super().__init__(side_length, side_length)\n",
        "\n",
        "    def calculate_perimeter(Dimensions):\n",
        "        return 4 * Dimensions.width\n",
        "\n",
        "side_length = 25 # OR : int(input())\n",
        "square = Square(side_length)\n",
        "\n",
        "perimeter = square.calculate_perimeter()\n",
        "print(\"Perimeter of the square:\", perimeter)\n"
      ]
    },
    {
      "cell_type": "markdown",
      "source": [
        "# Q11"
      ],
      "metadata": {
        "id": "q6lLhyaOmbWv"
      }
    },
    {
      "cell_type": "code",
      "execution_count": 40,
      "metadata": {
        "colab": {
          "base_uri": "https://localhost:8080/"
        },
        "id": "r3qyBBeRmbW1",
        "outputId": "ccd9f0da-cea7-4b30-b9a3-0993de947dda"
      },
      "outputs": [
        {
          "output_type": "stream",
          "name": "stdout",
          "text": [
            "enter its name\n",
            "reza\n",
            "enter its species\n",
            "ayne\n",
            "reza the ayne makes a sound.\n"
          ]
        }
      ],
      "source": [
        "class Animal:\n",
        "    def __init__(info, name, species):\n",
        "        info.name = name\n",
        "        info.species = species\n",
        "\n",
        "    def speak(info):\n",
        "        print(f\"{info.name} the {info.species} makes a sound.\")\n",
        "\n",
        "print (\"enter its name\")\n",
        "name = input()\n",
        "print (\"enter its species\")\n",
        "species = input()\n",
        "\n",
        "animal = Animal(name,species)\n",
        "animal.speak()\n"
      ]
    },
    {
      "cell_type": "markdown",
      "source": [
        "# Q12"
      ],
      "metadata": {
        "id": "tcaxmJGGmbb-"
      }
    },
    {
      "cell_type": "code",
      "execution_count": 49,
      "metadata": {
        "colab": {
          "base_uri": "https://localhost:8080/"
        },
        "id": "tFMobNT1mbb-",
        "outputId": "8a9202ef-2449-4f4b-ca8e-b620810c9c76"
      },
      "outputs": [
        {
          "output_type": "stream",
          "name": "stdout",
          "text": [
            "Enter the dog's name:\n",
            "jh\n",
            "Enter the dog's breed:\n",
            ",\n",
            "Woof!\n"
          ]
        }
      ],
      "source": [
        "class Animal:\n",
        "    def __init__(info, name, species):\n",
        "        info.name = name\n",
        "        info.species = species\n",
        "\n",
        "    def speak(info):\n",
        "        print(\"The animal makes a sound.\")\n",
        "\n",
        "class Dog(Animal):\n",
        "    def __init__(info, name, breed):\n",
        "        super().__init__(name, species=\"Dog\")\n",
        "        info.breed = breed\n",
        "\n",
        "    def speak(info):\n",
        "        print(\"Woof!\")\n",
        "\n",
        "print(\"Enter the dog's name:\")\n",
        "name = input()\n",
        "print(\"Enter the dog's breed:\")\n",
        "breed = input()\n",
        "\n",
        "dog = Dog(name, breed)\n",
        "dog.speak()\n"
      ]
    },
    {
      "cell_type": "markdown",
      "source": [
        "# Q13"
      ],
      "metadata": {
        "id": "NJ0q1nn3mbmO"
      }
    },
    {
      "cell_type": "code",
      "execution_count": 51,
      "metadata": {
        "colab": {
          "base_uri": "https://localhost:8080/"
        },
        "id": "lfsAiRynmbmP",
        "outputId": "df54ebfc-6f4a-4f51-874f-164ecdbcd541"
      },
      "outputs": [
        {
          "output_type": "stream",
          "name": "stdout",
          "text": [
            "Enter the dog's name:\n",
            "sala\n",
            "Enter the dog's color:\n",
            "sa\n",
            "Meow!\n"
          ]
        }
      ],
      "source": [
        "class Animal:\n",
        "    def __init__(info, name, species):\n",
        "        info.name = name\n",
        "        info.species = species\n",
        "\n",
        "    def speak(info):\n",
        "        print(\"The animal makes a sound.\")\n",
        "\n",
        "\n",
        "class Cat(Animal):\n",
        "    def __init__(info, name, color):\n",
        "        super().__init__(name, species=\"Cat\")\n",
        "        info.color = color\n",
        "\n",
        "    def speak(info):\n",
        "        print(\"Meow!\")\n",
        "\n",
        "\n",
        "print(\"Enter the cat's name:\")\n",
        "name = input()\n",
        "print(\"Enter the cat's color:\")\n",
        "color = input()\n",
        "\n",
        "cat = Cat(name, color)\n",
        "cat.speak()\n"
      ]
    },
    {
      "cell_type": "markdown",
      "source": [
        "# Q14"
      ],
      "metadata": {
        "id": "hDqiRafLmkdT"
      }
    },
    {
      "cell_type": "code",
      "source": [],
      "metadata": {
        "id": "F_mNU2diYomF"
      },
      "execution_count": null,
      "outputs": []
    },
    {
      "cell_type": "code",
      "execution_count": 60,
      "metadata": {
        "colab": {
          "base_uri": "https://localhost:8080/"
        },
        "id": "IDjh3eyhmkdd",
        "outputId": "ced5dd8b-9301-4a21-cbc8-3ce3a7f532a7"
      },
      "outputs": [
        {
          "output_type": "stream",
          "name": "stdout",
          "text": [
            "Enter the dog's name:\n",
            "Buddy\n",
            "Enter the dog's breed:\n",
            "Golden Retriever\n",
            "Enter the cat's name:\n",
            "Whiskers\n",
            "Enter the cat's color:\n",
            "Gray\n",
            "Buddy the Golden Retriever says:Woof!\n",
            "Whiskers the Gray says:Meow!\n"
          ]
        }
      ],
      "source": [
        "class Animal:\n",
        "    def __init__(info, name, species):\n",
        "        info.name = name\n",
        "        info.species = species\n",
        "\n",
        "    def speak(info):\n",
        "        print(\"The animal makes a sound.\")\n",
        "\n",
        "class Dog(Animal):\n",
        "    def __init__(info, name, breed):\n",
        "        super().__init__(name, species=\"Dog\")\n",
        "        info.breed = breed\n",
        "\n",
        "    def speak(info):\n",
        "        print(\"Woof!\")\n",
        "\n",
        "class Cat(Animal):\n",
        "    def __init__(info, name, color):\n",
        "        super().__init__(name, species=\"Cat\")\n",
        "        info.color = color\n",
        "\n",
        "    def speak(info):\n",
        "        print(\"Meow!\")\n",
        "\n",
        "\n",
        "print(\"Enter the dog's name:\")\n",
        "name = input()\n",
        "print(\"Enter the dog's breed:\")\n",
        "breed = input()\n",
        "dog =Dog(name, breed)\n",
        "\n",
        "print(\"Enter the cat's name:\")\n",
        "name = input()\n",
        "print(\"Enter the cat's color:\")\n",
        "color = input()\n",
        "cat = Cat(name, color)\n",
        "\n",
        "print(f\"{dog.name} the {dog.breed} says:\", end=\"\")\n",
        "dog.speak()\n",
        "print(f\"{cat.name} the {cat.color} says:\", end=\"\")\n",
        "cat.speak()"
      ]
    }
  ]
}