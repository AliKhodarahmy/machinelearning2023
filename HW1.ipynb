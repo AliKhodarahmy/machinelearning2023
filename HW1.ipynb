{
  "nbformat": 4,
  "nbformat_minor": 0,
  "metadata": {
    "colab": {
      "provenance": [],
      "toc_visible": true,
      "authorship_tag": "ABX9TyPes4NX6QzIw8UI+AdxefgW",
      "include_colab_link": true
    },
    "kernelspec": {
      "name": "python3",
      "display_name": "Python 3"
    },
    "language_info": {
      "name": "python"
    }
  },
  "cells": [
    {
      "cell_type": "markdown",
      "metadata": {
        "id": "view-in-github",
        "colab_type": "text"
      },
      "source": [
        "<a href=\"https://colab.research.google.com/github/AliKhodarahmy/machinelearning2023/blob/main/HW1.ipynb\" target=\"_parent\"><img src=\"https://colab.research.google.com/assets/colab-badge.svg\" alt=\"Open In Colab\"/></a>"
      ]
    },
    {
      "cell_type": "markdown",
      "source": [
        "# Q1"
      ],
      "metadata": {
        "id": "ssMaV6aog5Q7"
      }
    },
    {
      "cell_type": "code",
      "execution_count": null,
      "metadata": {
        "colab": {
          "base_uri": "https://localhost:8080/"
        },
        "id": "UbpZSx9pgywj",
        "outputId": "1ecee12b-c823-462b-ecea-18adfe8d3e72"
      },
      "outputs": [
        {
          "output_type": "stream",
          "name": "stdout",
          "text": [
            "enter your age\n",
            "12\n",
            "You are minor.\n"
          ]
        }
      ],
      "source": [
        "print (\"enter your age\")\n",
        "x = int(input())\n",
        "if x>17:\n",
        "  print (\"You are an adult.\")\n",
        "else:\n",
        "  print (\"You are minor.\")"
      ]
    },
    {
      "cell_type": "markdown",
      "source": [
        "# Q2"
      ],
      "metadata": {
        "id": "CjsEqROhl3Bj"
      }
    },
    {
      "cell_type": "code",
      "execution_count": null,
      "metadata": {
        "colab": {
          "base_uri": "https://localhost:8080/"
        },
        "id": "PdsHFKILl3Bk",
        "outputId": "61b48b08-84a6-48d1-d19a-f94162ba6824"
      },
      "outputs": [
        {
          "output_type": "stream",
          "name": "stdout",
          "text": [
            "1\n",
            "2\n",
            "3\n",
            "4\n",
            "5\n",
            "6\n",
            "7\n",
            "8\n",
            "9\n",
            "10\n"
          ]
        }
      ],
      "source": [
        "for i in range (10):\n",
        "  print (i+1)"
      ]
    },
    {
      "cell_type": "markdown",
      "source": [
        "# Q3"
      ],
      "metadata": {
        "id": "mZWJDTRdlPSJ"
      }
    },
    {
      "cell_type": "code",
      "execution_count": null,
      "metadata": {
        "colab": {
          "base_uri": "https://localhost:8080/"
        },
        "id": "w-xNBKjilPSJ",
        "outputId": "8c1e3934-ee64-4568-9b00-6547f17001b8"
      },
      "outputs": [
        {
          "output_type": "stream",
          "name": "stdout",
          "text": [
            "110\n"
          ]
        }
      ],
      "source": [
        "i = 1\n",
        "sum = 0\n",
        "while i<21:\n",
        "  if i%2==0:\n",
        "    sum += i\n",
        "  i += 1\n",
        "print (sum)"
      ]
    },
    {
      "cell_type": "markdown",
      "source": [
        "# Q4"
      ],
      "metadata": {
        "id": "84eeV2qKlUB4"
      }
    },
    {
      "cell_type": "code",
      "execution_count": null,
      "metadata": {
        "colab": {
          "base_uri": "https://localhost:8080/"
        },
        "id": "qD1bkjeulUB5",
        "outputId": "85d2724d-5b51-4f7f-d1f4-af04abf7140a"
      },
      "outputs": [
        {
          "output_type": "stream",
          "name": "stdout",
          "text": [
            "1\n",
            "21\n",
            "21\n"
          ]
        }
      ],
      "source": [
        "def multiply(a,b):\n",
        "  return a*b\n",
        "x1 = int(input())\n",
        "x2 = int(input())\n",
        "x1 = multiply(x1,x2)\n",
        "print (x1)"
      ]
    },
    {
      "cell_type": "markdown",
      "source": [
        "# Q5\n"
      ],
      "metadata": {
        "id": "i_fiY1WclUB6"
      }
    },
    {
      "cell_type": "code",
      "execution_count": 2,
      "metadata": {
        "id": "vW5QHtJmlUB6",
        "colab": {
          "base_uri": "https://localhost:8080/"
        },
        "outputId": "c6e3c105-19da-40d8-b6a5-c9f9d44cd0ae"
      },
      "outputs": [
        {
          "output_type": "stream",
          "name": "stdout",
          "text": [
            "Name: Ali-Khodarahmy\n",
            "Age: 23\n"
          ]
        }
      ],
      "source": [
        "class Person:\n",
        "    def __init__(self, name, age):\n",
        "        self.name = name\n",
        "        self.age = age\n",
        "me = Person(\"Ali-Khodarahmy\", 23)\n",
        "print(f\"Name: {me.name}\")\n",
        "print(f\"Age: {me.age}\")\n"
      ]
    },
    {
      "cell_type": "markdown",
      "source": [
        "# Q6"
      ],
      "metadata": {
        "id": "1gXo_5UalUB7"
      }
    },
    {
      "cell_type": "code",
      "execution_count": 1,
      "metadata": {
        "id": "YnxZIRJclUB8",
        "colab": {
          "base_uri": "https://localhost:8080/"
        },
        "outputId": "a34cddd3-835d-468d-f478-08bbd979eeb7"
      },
      "outputs": [
        {
          "output_type": "stream",
          "name": "stdout",
          "text": [
            "Name: Ali-Khodarahmy\n",
            "Age: 23\n",
            "Student ID: 9821523\n"
          ]
        }
      ],
      "source": [
        "class Person:\n",
        "    def __init__(self, name, age):\n",
        "        self.name = name\n",
        "        self.age = age\n",
        "\n",
        "class Student(Person):\n",
        "    def __init__(self, name, age, student_id):\n",
        "        super().__init__(name, age)\n",
        "        self.student_id = student_id\n",
        "student1 = Student(\"Ali-Khodarahmy\", 23,\"9821523\")\n",
        "\n",
        "print(f\"Name: {student1.name}\")\n",
        "print(f\"Age: {student1.age}\")\n",
        "print(f\"Student ID: {student1.student_id}\")\n"
      ]
    },
    {
      "cell_type": "markdown",
      "source": [
        "# Q7"
      ],
      "metadata": {
        "id": "-5LXwh7wlUHm"
      }
    },
    {
      "cell_type": "code",
      "execution_count": null,
      "metadata": {
        "id": "qtA7-KI9lUHn"
      },
      "outputs": [],
      "source": []
    },
    {
      "cell_type": "markdown",
      "source": [
        "# Q8"
      ],
      "metadata": {
        "id": "bdxohuv2lUHn"
      }
    },
    {
      "cell_type": "code",
      "execution_count": null,
      "metadata": {
        "id": "Ib2z9ChYlUHo"
      },
      "outputs": [],
      "source": []
    },
    {
      "cell_type": "markdown",
      "source": [
        "# Q9"
      ],
      "metadata": {
        "id": "cOdv--K4lUHo"
      }
    },
    {
      "cell_type": "code",
      "execution_count": null,
      "metadata": {
        "id": "FphpCy2MlUHp"
      },
      "outputs": [],
      "source": []
    },
    {
      "cell_type": "markdown",
      "source": [
        "# Q10"
      ],
      "metadata": {
        "id": "jItS0ThjlfxO"
      }
    },
    {
      "cell_type": "code",
      "execution_count": null,
      "metadata": {
        "id": "86zKm8P4lfxP"
      },
      "outputs": [],
      "source": []
    },
    {
      "cell_type": "markdown",
      "source": [
        "# Q11"
      ],
      "metadata": {
        "id": "q6lLhyaOmbWv"
      }
    },
    {
      "cell_type": "code",
      "execution_count": null,
      "metadata": {
        "id": "r3qyBBeRmbW1"
      },
      "outputs": [],
      "source": []
    },
    {
      "cell_type": "markdown",
      "source": [
        "# Q12"
      ],
      "metadata": {
        "id": "tcaxmJGGmbb-"
      }
    },
    {
      "cell_type": "code",
      "execution_count": null,
      "metadata": {
        "id": "tFMobNT1mbb-"
      },
      "outputs": [],
      "source": []
    },
    {
      "cell_type": "markdown",
      "source": [
        "# Q13"
      ],
      "metadata": {
        "id": "NJ0q1nn3mbmO"
      }
    },
    {
      "cell_type": "code",
      "execution_count": null,
      "metadata": {
        "id": "lfsAiRynmbmP"
      },
      "outputs": [],
      "source": []
    },
    {
      "cell_type": "markdown",
      "source": [
        "# Q14"
      ],
      "metadata": {
        "id": "hDqiRafLmkdT"
      }
    },
    {
      "cell_type": "code",
      "execution_count": null,
      "metadata": {
        "id": "IDjh3eyhmkdd"
      },
      "outputs": [],
      "source": []
    }
  ]
}